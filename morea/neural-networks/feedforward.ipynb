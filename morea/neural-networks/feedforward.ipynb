{
 "cells": [
  {
   "cell_type": "code",
   "execution_count": 2,
   "id": "587a2edb",
   "metadata": {},
   "outputs": [],
   "source": [
    "import numpy as np\n",
    "import tensorflow as tf"
   ]
  },
  {
   "cell_type": "code",
   "execution_count": 3,
   "id": "57aa1ee5",
   "metadata": {},
   "outputs": [
    {
     "name": "stdout",
     "output_type": "stream",
     "text": [
      "Label:  3\n"
     ]
    },
    {
     "data": {
      "image/png": "[encoded data removed]",
      "text/plain": [
       "<Figure size 432x288 with 1 Axes>"
      ]
     },
     "metadata": {
      "needs_background": "light"
     },
     "output_type": "display_data"
    }
   ],
   "source": [
    "from keras.datasets import mnist\n",
    "\n",
    "(X_train, trainlabels), (X_test, testlabels) = mnist.load_data()\n",
    "\n",
    "import matplotlib.pyplot as plt\n",
    "\n",
    "label = 7\n",
    "plt.imshow(X_train[label])\n",
    "print('Label: ', trainlabels[label])\n"
   ]
  },
  {
   "cell_type": "code",
   "execution_count": 4,
   "id": "2cfc1806",
   "metadata": {},
   "outputs": [
    {
     "name": "stdout",
     "output_type": "stream",
     "text": [
      "(60000, 784) (10000, 784)\n"
     ]
    }
   ],
   "source": [
    "X_train = X_train.reshape(X_train.shape[0],28*28)\n",
    "X_test = X_test.reshape(X_test.shape[0], 28*28)\n",
    "print(X_train.shape, X_test.shape)"
   ]
  },
  {
   "cell_type": "code",
   "execution_count": 5,
   "id": "9ebc2d52",
   "metadata": {},
   "outputs": [
    {
     "data": {
      "text/plain": [
       "array([0., 0., 0., 0., 0., 0., 0., 0., 0., 1.], dtype=float32)"
      ]
     },
     "execution_count": 5,
     "metadata": {},
     "output_type": "execute_result"
    }
   ],
   "source": [
    "from tensorflow.keras.utils import to_categorical\n",
    "Y_train = to_categorical(trainlabels, num_classes = 10)\n",
    "Y_test = to_categorical(testlabels, num_classes = 10)\n",
    "\n",
    "test = np.where(trainlabels == 9)[0][0]\n",
    "Y_train[test,:]"
   ]
  },
  {
   "cell_type": "code",
   "execution_count": 29,
   "id": "5375d1e8",
   "metadata": {},
   "outputs": [],
   "source": [
    "# A general, but somewhat involved way of building a feedforward network\n",
    "\n",
    "class myModel(tf.keras.Model):\n",
    "    def __init__(self):\n",
    "        super(myModel,self).__init__()\n",
    "        self.hidden1 = tf.keras.layers.Dense(100,kernel_initializer='random_normal', kernel_regularizer=tf.keras.regularizers.L2(1e-3))\n",
    "        self.activation1 = tf.keras.layers.ReLU()\n",
    "        self.outputlayer = tf.keras.layers.Dense(10)\n",
    "        \n",
    "    def call(self, inputs):\n",
    "        x = self.hidden1(inputs)\n",
    "        x = self.activation1(x)\n",
    "        x = self.outputlayer(x)\n",
    "        return tf.keras.activations.softmax(x)\n",
    "\n",
    "model = myModel()"
   ]
  },
  {
   "cell_type": "code",
   "execution_count": 7,
   "id": "7f3ccd83",
   "metadata": {},
   "outputs": [
    {
     "data": {
      "text/plain": [
       "['_TF_MODULE_IGNORED_PROPERTIES',\n",
       " '__call__',\n",
       " '__class__',\n",
       " '__delattr__',\n",
       " '__dict__',\n",
       " '__dir__',\n",
       " '__doc__',\n",
       " '__eq__',\n",
       " '__format__',\n",
       " '__ge__',\n",
       " '__getattribute__',\n",
       " '__getstate__',\n",
       " '__gt__',\n",
       " '__hash__',\n",
       " '__init__',\n",
       " '__init_subclass__',\n",
       " '__le__',\n",
       " '__lt__',\n",
       " '__module__',\n",
       " '__ne__',\n",
       " '__new__',\n",
       " '__reduce__',\n",
       " '__reduce_ex__',\n",
       " '__repr__',\n",
       " '__setattr__',\n",
       " '__setstate__',\n",
       " '__sizeof__',\n",
       " '__str__',\n",
       " '__subclasshook__',\n",
       " '__weakref__',\n",
       " '_add_trackable',\n",
       " '_add_variable_with_custom_getter',\n",
       " '_assert_compile_was_called',\n",
       " '_assert_weights_created',\n",
       " '_autographed_call',\n",
       " '_call_accepts_kwargs',\n",
       " '_call_arg_was_passed',\n",
       " '_call_fn_arg_defaults',\n",
       " '_call_fn_arg_positions',\n",
       " '_call_fn_args',\n",
       " '_call_full_argspec',\n",
       " '_cast_single_input',\n",
       " '_check_call_args',\n",
       " '_checkpoint_dependencies',\n",
       " '_clear_losses',\n",
       " '_compile_was_called',\n",
       " '_compute_dtype',\n",
       " '_configure_steps_per_execution',\n",
       " '_dedup_weights',\n",
       " '_deferred_dependencies',\n",
       " '_dtype',\n",
       " '_eager_losses',\n",
       " '_flatten',\n",
       " '_flatten_layers',\n",
       " '_functional_construction_call',\n",
       " '_gather_children_attribute',\n",
       " '_gather_saveables_for_checkpoint',\n",
       " '_get_call_arg_value',\n",
       " '_get_callback_model',\n",
       " '_get_compile_args',\n",
       " '_get_distribution_strategy',\n",
       " '_get_existing_metric',\n",
       " '_get_input_masks',\n",
       " '_get_node_attribute_at_index',\n",
       " '_get_optimizer',\n",
       " '_get_save_spec',\n",
       " '_get_trainable_state',\n",
       " '_handle_activity_regularization',\n",
       " '_handle_deferred_dependencies',\n",
       " '_handle_weight_regularization',\n",
       " '_in_multi_worker_mode',\n",
       " '_infer_output_signature',\n",
       " '_init_batch_counters',\n",
       " '_init_call_fn_args',\n",
       " '_init_set_name',\n",
       " '_is_layer',\n",
       " '_keras_api_names',\n",
       " '_keras_api_names_v1',\n",
       " '_keras_tensor_symbolic_call',\n",
       " '_list_extra_dependencies_for_serialization',\n",
       " '_list_functions_for_serialization',\n",
       " '_lookup_dependency',\n",
       " '_map_resources',\n",
       " '_maybe_build',\n",
       " '_maybe_cast_inputs',\n",
       " '_maybe_create_attribute',\n",
       " '_maybe_initialize_trackable',\n",
       " '_maybe_load_initial_epoch_from_ckpt',\n",
       " '_must_restore_from_config',\n",
       " '_name_based_attribute_restore',\n",
       " '_name_based_restores',\n",
       " '_name_scope',\n",
       " '_no_dependency',\n",
       " '_obj_reference_counts',\n",
       " '_object_identifier',\n",
       " '_preload_simple_restoration',\n",
       " '_reset_compile_cache',\n",
       " '_restore_from_checkpoint_position',\n",
       " '_set_call_arg_value',\n",
       " '_set_connectivity_metadata',\n",
       " '_set_dtype_policy',\n",
       " '_set_inputs',\n",
       " '_set_mask_keras_history_checked',\n",
       " '_set_mask_metadata',\n",
       " '_set_save_spec',\n",
       " '_set_trainable_state',\n",
       " '_set_training_mode',\n",
       " '_setattr_tracking',\n",
       " '_should_cast_single_input',\n",
       " '_should_compute_mask',\n",
       " '_should_eval',\n",
       " '_single_restoration_from_checkpoint_position',\n",
       " '_split_out_first_arg',\n",
       " '_symbolic_call',\n",
       " '_tf_api_names',\n",
       " '_tf_api_names_v1',\n",
       " '_track_trackable',\n",
       " '_trackable_saved_model_saver',\n",
       " '_tracking_metadata',\n",
       " '_unconditional_checkpoint_dependencies',\n",
       " '_unconditional_dependency_names',\n",
       " '_undeduplicated_weights',\n",
       " '_update_uid',\n",
       " '_updated_config',\n",
       " '_validate_compile',\n",
       " '_warn_about_input_casting',\n",
       " 'activity_regularizer',\n",
       " 'add_loss',\n",
       " 'add_metric',\n",
       " 'add_update',\n",
       " 'add_variable',\n",
       " 'add_weight',\n",
       " 'apply',\n",
       " 'build',\n",
       " 'call',\n",
       " 'compile',\n",
       " 'compute_mask',\n",
       " 'compute_output_shape',\n",
       " 'compute_output_signature',\n",
       " 'count_params',\n",
       " 'distribute_strategy',\n",
       " 'dtype',\n",
       " 'dynamic',\n",
       " 'evaluate',\n",
       " 'evaluate_generator',\n",
       " 'fit',\n",
       " 'fit_generator',\n",
       " 'from_config',\n",
       " 'get_config',\n",
       " 'get_input_at',\n",
       " 'get_input_mask_at',\n",
       " 'get_input_shape_at',\n",
       " 'get_layer',\n",
       " 'get_losses_for',\n",
       " 'get_output_at',\n",
       " 'get_output_mask_at',\n",
       " 'get_output_shape_at',\n",
       " 'get_updates_for',\n",
       " 'get_weights',\n",
       " 'inbound_nodes',\n",
       " 'input',\n",
       " 'input_mask',\n",
       " 'input_shape',\n",
       " 'input_spec',\n",
       " 'layers',\n",
       " 'load_weights',\n",
       " 'losses',\n",
       " 'make_predict_function',\n",
       " 'make_test_function',\n",
       " 'make_train_function',\n",
       " 'metrics',\n",
       " 'metrics_names',\n",
       " 'name',\n",
       " 'name_scope',\n",
       " 'non_trainable_variables',\n",
       " 'non_trainable_weights',\n",
       " 'outbound_nodes',\n",
       " 'output',\n",
       " 'output_mask',\n",
       " 'output_shape',\n",
       " 'predict',\n",
       " 'predict_generator',\n",
       " 'predict_on_batch',\n",
       " 'predict_step',\n",
       " 'reset_metrics',\n",
       " 'reset_states',\n",
       " 'run_eagerly',\n",
       " 'save',\n",
       " 'save_weights',\n",
       " 'set_weights',\n",
       " 'state_updates',\n",
       " 'stateful',\n",
       " 'submodules',\n",
       " 'summary',\n",
       " 'supports_masking',\n",
       " 'test_on_batch',\n",
       " 'test_step',\n",
       " 'to_json',\n",
       " 'to_yaml',\n",
       " 'train_on_batch',\n",
       " 'train_step',\n",
       " 'trainable',\n",
       " 'trainable_variables',\n",
       " 'trainable_weights',\n",
       " 'updates',\n",
       " 'variables',\n",
       " 'weights',\n",
       " 'with_name_scope']"
      ]
     },
     "execution_count": 7,
     "metadata": {},
     "output_type": "execute_result"
    }
   ],
   "source": [
    "dir(myModel)"
   ]
  },
  {
   "cell_type": "code",
   "execution_count": 35,
   "id": "e0e2039b",
   "metadata": {},
   "outputs": [
    {
     "name": "stdout",
     "output_type": "stream",
     "text": [
      "Epoch 1/10\n",
      "1875/1875 [==============================] - 2s 1ms/step - loss: 0.1662\n",
      "Epoch 2/10\n",
      "1875/1875 [==============================] - 2s 1ms/step - loss: 0.1498\n",
      "Epoch 3/10\n",
      "1875/1875 [==============================] - 2s 1ms/step - loss: 0.1444\n",
      "Epoch 4/10\n",
      "1875/1875 [==============================] - 2s 1ms/step - loss: 0.1406\n",
      "Epoch 5/10\n",
      "1875/1875 [==============================] - 2s 1ms/step - loss: 0.1381\n",
      "Epoch 6/10\n",
      "1875/1875 [==============================] - 2s 1ms/step - loss: 0.1360\n",
      "Epoch 7/10\n",
      "1875/1875 [==============================] - 2s 1ms/step - loss: 0.1343\n",
      "Epoch 8/10\n",
      "1875/1875 [==============================] - 2s 1ms/step - loss: 0.1328\n",
      "Epoch 9/10\n",
      "1875/1875 [==============================] - 2s 1ms/step - loss: 0.1315\n",
      "Epoch 10/10\n",
      "1875/1875 [==============================] - 2s 1ms/step - loss: 0.1303\n",
      "Model: \"my_model_2\"\n",
      "_________________________________________________________________\n",
      "Layer (type)                 Output Shape              Param #   \n",
      "=================================================================\n",
      "dense_4 (Dense)              multiple                  78500     \n",
      "_________________________________________________________________\n",
      "re_lu_2 (ReLU)               multiple                  0         \n",
      "_________________________________________________________________\n",
      "dense_5 (Dense)              multiple                  1010      \n",
      "=================================================================\n",
      "Total params: 79,510\n",
      "Trainable params: 79,510\n",
      "Non-trainable params: 0\n",
      "_________________________________________________________________\n"
     ]
    }
   ],
   "source": [
    "\n",
    "model.compile(loss = 'categorical_crossentropy',\n",
    "              optimizer = 'adagrad')\n",
    "model.fit(X_train,\n",
    "          Y_train,\n",
    "          epochs = 10,\n",
    "          batch_size=32)\n",
    "\n",
    "model.summary()"
   ]
  },
  {
   "cell_type": "code",
   "execution_count": 37,
   "id": "f7b87ae6",
   "metadata": {},
   "outputs": [
    {
     "name": "stdout",
     "output_type": "stream",
     "text": [
      "Accuracy:  0.9618\n"
     ]
    }
   ],
   "source": [
    "hardpred = model.predict(X_test).argmax(axis = 1)\n",
    "\n",
    "print('Accuracy: ',np.sum(np.where(hardpred == testlabels, 1, 0))/10000)"
   ]
  },
  {
   "cell_type": "code",
   "execution_count": 8,
   "id": "54d1c721",
   "metadata": {},
   "outputs": [
    {
     "name": "stdout",
     "output_type": "stream",
     "text": [
      "Model: \"sequential\"\n",
      "_________________________________________________________________\n",
      "Layer (type)                 Output Shape              Param #   \n",
      "=================================================================\n",
      "dense_2 (Dense)              (None, 100)               78500     \n",
      "_________________________________________________________________\n",
      "dense_3 (Dense)              (None, 10)                1010      \n",
      "_________________________________________________________________\n",
      "softmax (Softmax)            (None, 10)                0         \n",
      "=================================================================\n",
      "Total params: 79,510\n",
      "Trainable params: 79,510\n",
      "Non-trainable params: 0\n",
      "_________________________________________________________________\n"
     ]
    }
   ],
   "source": [
    "# A less general, but simpler way to build feedforward networks\n",
    "\n",
    "another = tf.keras.models.Sequential()\n",
    "layer1 = another.add(tf.keras.layers.Dense(100, input_shape=(784,), activation='relu'))\n",
    "#layer2 = another.add(tf.keras.layers.Dense(50, activation='relu'))\n",
    "output_layer = another.add(tf.keras.layers.Dense(10, activation = 'linear'))\n",
    "outputs = another.add(tf.keras.layers.Softmax())\n",
    "\n",
    "another.summary()"
   ]
  },
  {
   "cell_type": "code",
   "execution_count": 15,
   "id": "1dbfac39",
   "metadata": {},
   "outputs": [
    {
     "name": "stdout",
     "output_type": "stream",
     "text": [
      "Epoch 1/30\n",
      "938/938 [==============================] - 1s 1ms/step - loss: 0.3871\n",
      "Epoch 2/30\n",
      "938/938 [==============================] - 1s 1ms/step - loss: 0.2653\n",
      "Epoch 3/30\n",
      "938/938 [==============================] - 1s 1ms/step - loss: 0.2321\n",
      "Epoch 4/30\n",
      "938/938 [==============================] - 1s 1ms/step - loss: 0.2111\n",
      "Epoch 5/30\n",
      "938/938 [==============================] - 1s 1ms/step - loss: 0.1963\n",
      "Epoch 6/30\n",
      "938/938 [==============================] - 1s 1ms/step - loss: 0.1834\n",
      "Epoch 7/30\n",
      "938/938 [==============================] - 1s 1ms/step - loss: 0.1725\n",
      "Epoch 8/30\n",
      "938/938 [==============================] - 1s 1ms/step - loss: 0.1636\n",
      "Epoch 9/30\n",
      "938/938 [==============================] - 1s 1ms/step - loss: 0.1555\n",
      "Epoch 10/30\n",
      "938/938 [==============================] - 1s 1ms/step - loss: 0.1486\n",
      "Epoch 11/30\n",
      "938/938 [==============================] - 1s 1ms/step - loss: 0.1420\n",
      "Epoch 12/30\n",
      "938/938 [==============================] - 1s 1ms/step - loss: 0.1359\n",
      "Epoch 13/30\n",
      "938/938 [==============================] - 1s 1ms/step - loss: 0.1304\n",
      "Epoch 14/30\n",
      "938/938 [==============================] - 1s 1ms/step - loss: 0.1256\n",
      "Epoch 15/30\n",
      "938/938 [==============================] - 1s 1ms/step - loss: 0.1207\n",
      "Epoch 16/30\n",
      "938/938 [==============================] - 1s 1ms/step - loss: 0.1166\n",
      "Epoch 17/30\n",
      "938/938 [==============================] - 1s 1ms/step - loss: 0.1121\n",
      "Epoch 18/30\n",
      "938/938 [==============================] - 1s 1ms/step - loss: 0.1087\n",
      "Epoch 19/30\n",
      "938/938 [==============================] - 1s 1ms/step - loss: 0.1047\n",
      "Epoch 20/30\n",
      "938/938 [==============================] - 1s 1ms/step - loss: 0.1017\n",
      "Epoch 21/30\n",
      "938/938 [==============================] - 1s 1ms/step - loss: 0.0983\n",
      "Epoch 22/30\n",
      "938/938 [==============================] - 1s 1ms/step - loss: 0.0952\n",
      "Epoch 23/30\n",
      "938/938 [==============================] - 1s 1ms/step - loss: 0.0924\n",
      "Epoch 24/30\n",
      "938/938 [==============================] - 1s 1ms/step - loss: 0.0895\n",
      "Epoch 25/30\n",
      "938/938 [==============================] - 1s 1ms/step - loss: 0.0869\n",
      "Epoch 26/30\n",
      "938/938 [==============================] - 1s 1ms/step - loss: 0.0844\n",
      "Epoch 27/30\n",
      "938/938 [==============================] - 1s 1ms/step - loss: 0.0821\n",
      "Epoch 28/30\n",
      "938/938 [==============================] - 1s 1ms/step - loss: 0.0800\n",
      "Epoch 29/30\n",
      "938/938 [==============================] - 1s 1ms/step - loss: 0.0777\n",
      "Epoch 30/30\n",
      "938/938 [==============================] - 1s 1ms/step - loss: 0.0756\n"
     ]
    },
    {
     "data": {
      "text/plain": [
       "<tensorflow.python.keras.callbacks.History at 0x2026c8ea7f0>"
      ]
     },
     "execution_count": 15,
     "metadata": {},
     "output_type": "execute_result"
    }
   ],
   "source": [
    "another.compile(loss = 'categorical_crossentropy', optimizer = 'adagrad')\n",
    "\n",
    "another.fit(X_train,Y_train, epochs=30, batch_size = 64)"
   ]
  },
  {
   "cell_type": "code",
   "execution_count": 16,
   "id": "cf2267c5",
   "metadata": {},
   "outputs": [
    {
     "name": "stdout",
     "output_type": "stream",
     "text": [
      "Accuracy:  0.9421\n"
     ]
    }
   ],
   "source": [
    "Y_pred = another.predict(X_test).argmax(axis = 1)\n",
    "print('Accuracy: ', np.sum(np.where(Y_pred == testlabels, 1, 0))/10000)"
   ]
  },
  {
   "cell_type": "code",
   "execution_count": null,
   "id": "bfe79702",
   "metadata": {},
   "outputs": [],
   "source": []
  }
 ],
 "metadata": {
  "kernelspec": {
   "display_name": "Python 3",
   "language": "python",
   "name": "python3"
  },
  "language_info": {
   "codemirror_mode": {
    "name": "ipython",
    "version": 3
   },
   "file_extension": ".py",
   "mimetype": "text/x-python",
   "name": "python",
   "nbconvert_exporter": "python",
   "pygments_lexer": "ipython3",
   "version": "3.8.5"
  }
 },
 "nbformat": 4,
 "nbformat_minor": 5
}
